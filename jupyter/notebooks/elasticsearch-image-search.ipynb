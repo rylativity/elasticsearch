{
 "cells": [
  {
   "cell_type": "code",
   "execution_count": null,
   "id": "c02ba51e-cd4c-4454-b414-5c5c6651dee8",
   "metadata": {},
   "outputs": [],
   "source": [
    "import os\n",
    "\n",
    "from elasticsearch import Elasticsearch\n",
    "from sentence_transformers import SentenceTransformer\n",
    "from PIL import Image"
   ]
  },
  {
   "cell_type": "code",
   "execution_count": null,
   "id": "4aad07bb-60d8-4914-b811-ae77bf995b97",
   "metadata": {},
   "outputs": [],
   "source": [
    "ELASTICSEARCH_HOST = \"http://elasticsearch:9200\""
   ]
  },
  {
   "cell_type": "code",
   "execution_count": null,
   "id": "f8932d1b-40d2-4e8c-bd4e-4661eeacd41e",
   "metadata": {},
   "outputs": [],
   "source": [
    "## Define Utility Functions"
   ]
  },
  {
   "cell_type": "code",
   "execution_count": null,
   "id": "61561e86-0f1f-408a-88ff-254b31177cf5",
   "metadata": {},
   "outputs": [],
   "source": [
    "def get_elasticsearch(hosts=ELASTICSEARCH_HOST):\n",
    "    return Elasticsearch(hosts=hosts)"
   ]
  },
  {
   "cell_type": "code",
   "execution_count": null,
   "id": "a2a3e8d7-23bc-49c5-971b-c61082044f60",
   "metadata": {},
   "outputs": [],
   "source": [
    "def create_index(elasticsearch: Elasticsearch, index_name:str, mappings:dict=None, settings:dict=None, overwrite_existing=False):\n",
    "\n",
    "    if settings is None:\n",
    "        settings = {}\n",
    "    if mappings is None:\n",
    "        mappings = {}\n",
    "\n",
    "    create_index_body = {\n",
    "        \"settings\":settings,\n",
    "        \"mappings\":mappings\n",
    "    }\n",
    "\n",
    "    if elasticsearch.indices.exists(index_name):\n",
    "        if overwrite_existing:\n",
    "            elasticsearch.indices.delete(index_name)\n",
    "        else:\n",
    "            raise Exception(f\"Index {index_name} already exists\")\n",
    "\n",
    "    elasticsearch.indices.create(index=index_name, body=create_index_body)\n",
    "            "
   ]
  },
  {
   "cell_type": "code",
   "execution_count": null,
   "id": "8d7593f9-2d6b-47b3-b0ba-5ca27c2026e5",
   "metadata": {},
   "outputs": [],
   "source": [
    "embedding_model = SentenceTransformer('clip-ViT-B-32')\n",
    "def generate_image_embedding(image:Image):\n",
    "    return embedding_model.encode(image)\n",
    "\n",
    "def generate_image_embedding_from_path(image_path:str):\n",
    "    img = Image.open(image_path)\n",
    "    return generate_image_embedding(img)\n"
   ]
  },
  {
   "cell_type": "code",
   "execution_count": null,
   "id": "7f54de8c-5b1c-41b9-a504-004b0b17b29c",
   "metadata": {},
   "outputs": [],
   "source": [
    "def insert_document(elasticsearch:Elasticsearch, index_name:str, document:dict):\n",
    "    elasticsearch.index(index=index_name, document=document)\n",
    "\n",
    "def bulk_insert_documents(elasticsearch:Elasticsearch, index_name:str, documents:list[dict], ):\n",
    "    inserts = []\n",
    "    for doc in documents:\n",
    "        inserts.append({\"index\":{\"_index\":index_name}})\n",
    "        inserts.append(doc)\n",
    "    elasticsearch.bulk(body=inserts)\n",
    "\n",
    "def image_search(image:Image, elasticsearch:Elasticsearch, index_name:str, image_embedding_field_name:str, k=3, num_candidates=100, size=3):\n",
    "\n",
    "    image_embedding = generate_image_embedding(image)\n",
    "    query_body = {\n",
    "        \"knn\":{\n",
    "            \"field\":image_embedding_field_name,\n",
    "            \"k\":k,\n",
    "            \"num_candidates\":num_candidates,\n",
    "            \"query_vector\":image_embedding,\n",
    "            \"boost\":100\n",
    "        }\n",
    "    }\n",
    "\n",
    "    res = elasticsearch.search(index=index_name, body=body, size=size)\n",
    "    return res"
   ]
  },
  {
   "cell_type": "code",
   "execution_count": null,
   "id": "f2417749-a71c-4b7b-8d62-0eb9ba232913",
   "metadata": {},
   "outputs": [],
   "source": []
  }
 ],
 "metadata": {
  "kernelspec": {
   "display_name": "Python 3 (ipykernel)",
   "language": "python",
   "name": "python3"
  },
  "language_info": {
   "codemirror_mode": {
    "name": "ipython",
    "version": 3
   },
   "file_extension": ".py",
   "mimetype": "text/x-python",
   "name": "python",
   "nbconvert_exporter": "python",
   "pygments_lexer": "ipython3",
   "version": "3.11.9"
  }
 },
 "nbformat": 4,
 "nbformat_minor": 5
}
